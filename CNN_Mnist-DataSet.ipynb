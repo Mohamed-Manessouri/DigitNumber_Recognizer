{
 "cells": [
  {
   "cell_type": "code",
   "execution_count": 46,
   "id": "70ddc5a0-f251-4b7f-9287-ea811f529407",
   "metadata": {},
   "outputs": [],
   "source": [
    "import io\n",
    "import itertools \n",
    "import sklearn.metrics\n",
    "import matplotlib.pyplot as plt\n",
    "import numpy as np"
   ]
  },
  {
   "cell_type": "code",
   "execution_count": 47,
   "id": "5d19a6e9-ac78-4cf1-a608-bd882aeaf837",
   "metadata": {},
   "outputs": [],
   "source": [
    "import tensorflow as tf\n",
    "import tensorflow_datasets as tfds\n",
    "import datetime"
   ]
  },
  {
   "cell_type": "code",
   "execution_count": 48,
   "id": "1725ab97-48dc-40c8-b45d-11ddd269d4b2",
   "metadata": {},
   "outputs": [],
   "source": [
    "#preprocessing Mnist Dataset \n",
    "\n",
    "Buffer_Size = 70_000\n",
    "Batch_Size = 128\n",
    "Epochs = 20"
   ]
  },
  {
   "cell_type": "code",
   "execution_count": 49,
   "id": "1ca32d1f-d04e-4e26-9318-6816860a9866",
   "metadata": {},
   "outputs": [],
   "source": [
    "mnist_dataset , mnist_info = tfds.load(name = 'mnist' , with_info = True, as_supervised = True)"
   ]
  },
  {
   "cell_type": "code",
   "execution_count": 50,
   "id": "6c8c326c-58a8-496e-8f20-88ea6c38dbe1",
   "metadata": {},
   "outputs": [],
   "source": [
    "mnist_train , mnist_test = mnist_dataset['train'] , mnist_dataset['test']"
   ]
  },
  {
   "cell_type": "code",
   "execution_count": 51,
   "id": "0e104620-26b8-4e9a-a968-30effbea637d",
   "metadata": {},
   "outputs": [],
   "source": [
    "def scale ( image, label) :\n",
    "    image = tf.cast(image, tf.float32)\n",
    "    image /=255.\n",
    "    return image, label"
   ]
  },
  {
   "cell_type": "code",
   "execution_count": 52,
   "id": "e09483c8-2029-4b1c-98fb-aa08afce3b80",
   "metadata": {},
   "outputs": [],
   "source": [
    "train_valid_data = mnist_train.map(scale)\n",
    "test_data = mnist_test.map(scale)"
   ]
  },
  {
   "cell_type": "code",
   "execution_count": 53,
   "id": "878ef50b-1f02-44a0-9a55-3f75a45bcc47",
   "metadata": {},
   "outputs": [],
   "source": [
    "num_valid_samples= 0.1 * mnist_info.splits['train'].num_examples\n",
    "num_valid_samples= tf.cast(num_valid_samples , tf.int64)"
   ]
  },
  {
   "cell_type": "code",
   "execution_count": 54,
   "id": "75fb37b1-f10d-4640-82a1-1985876847e6",
   "metadata": {},
   "outputs": [],
   "source": [
    "num_test_samples = mnist_info.splits['test'].num_examples\n",
    "num_test_samples = tf.cast(num_test_samples, tf.int64)"
   ]
  },
  {
   "cell_type": "code",
   "execution_count": 55,
   "id": "90a8cd11-a606-4d4b-bb40-29e1f8e9a0c6",
   "metadata": {},
   "outputs": [
    {
     "data": {
      "text/plain": [
       "<tf.Tensor: shape=(), dtype=int64, numpy=10000>"
      ]
     },
     "execution_count": 55,
     "metadata": {},
     "output_type": "execute_result"
    }
   ],
   "source": [
    "num_test_samples"
   ]
  },
  {
   "cell_type": "code",
   "execution_count": 56,
   "id": "64e94639-b871-4bca-a2cf-ddbe056660b1",
   "metadata": {},
   "outputs": [
    {
     "data": {
      "text/plain": [
       "<tf.Tensor: shape=(), dtype=int64, numpy=6000>"
      ]
     },
     "execution_count": 56,
     "metadata": {},
     "output_type": "execute_result"
    }
   ],
   "source": [
    "num_valid_samples"
   ]
  },
  {
   "cell_type": "code",
   "execution_count": 57,
   "id": "2990eb88-7236-4607-aa46-4d37be8e2c05",
   "metadata": {},
   "outputs": [],
   "source": [
    "train_valid_data = train_valid_data.shuffle(Buffer_Size)"
   ]
  },
  {
   "cell_type": "code",
   "execution_count": 58,
   "id": "5880088d-a978-40be-b746-15bf883be43a",
   "metadata": {},
   "outputs": [],
   "source": [
    "train_data = train_valid_data.skip(num_valid_samples)\n",
    "validation_data = train_valid_data.take(num_valid_samples)"
   ]
  },
  {
   "cell_type": "code",
   "execution_count": 59,
   "id": "23c91e51-6b69-4b4b-b826-b8d03cb82b4d",
   "metadata": {},
   "outputs": [],
   "source": [
    "train_data = train_data.batch(Batch_Size)\n",
    "validation_data = validation_data.batch(num_valid_samples)\n",
    "test_data = test_data.batch(num_test_samples)"
   ]
  },
  {
   "cell_type": "code",
   "execution_count": 60,
   "id": "cb0d314d-81bd-4bf1-8a77-3f2d41492199",
   "metadata": {},
   "outputs": [],
   "source": [
    "for images , labels in validation_data:\n",
    "    images_val = images.numpy()\n",
    "    labels_val = labels.numpy()"
   ]
  },
  {
   "cell_type": "code",
   "execution_count": 61,
   "id": "05662aeb-4d16-4372-a41e-2a5fb87bff43",
   "metadata": {},
   "outputs": [],
   "source": [
    "#Creating the Model and Training it \n",
    "model = tf.keras.Sequential( [\n",
    "    tf.keras.layers.Conv2D(50, 5, activation = 'relu' , input_shape = (28,28,1)) ,\n",
    "    tf.keras.layers.MaxPooling2D ( pool_size = (2,2)) ,\n",
    "    tf.keras.layers.Conv2D(50 , 3, activation = 'relu') ,\n",
    "    tf.keras.layers.MaxPooling2D ( pool_size =(2,2)) ,\n",
    "    tf.keras.layers.Flatten(),\n",
    "    tf.keras.layers.Dense(10)\n",
    "])"
   ]
  },
  {
   "cell_type": "code",
   "execution_count": 62,
   "id": "bc956f5d-ac44-489c-9171-19c9b34cd3d3",
   "metadata": {},
   "outputs": [
    {
     "data": {
      "text/html": [
       "<pre style=\"white-space:pre;overflow-x:auto;line-height:normal;font-family:Menlo,'DejaVu Sans Mono',consolas,'Courier New',monospace\"><span style=\"font-weight: bold\">Model: \"sequential_2\"</span>\n",
       "</pre>\n"
      ],
      "text/plain": [
       "\u001b[1mModel: \"sequential_2\"\u001b[0m\n"
      ]
     },
     "metadata": {},
     "output_type": "display_data"
    },
    {
     "data": {
      "text/html": [
       "<pre style=\"white-space:pre;overflow-x:auto;line-height:normal;font-family:Menlo,'DejaVu Sans Mono',consolas,'Courier New',monospace\">┏━━━━━━━━━━━━━━━━━━━━━━━━━━━━━━━━┳━━━━━━━━━━━━━━━━━━━━━━━━━┳━━━━━━━━━━━━━━┓\n",
       "┃<span style=\"font-weight: bold\"> Layer (type)                   </span>┃<span style=\"font-weight: bold\"> Output Shape            </span>┃<span style=\"font-weight: bold\">      Param # </span>┃\n",
       "┡━━━━━━━━━━━━━━━━━━━━━━━━━━━━━━━━╇━━━━━━━━━━━━━━━━━━━━━━━━━╇━━━━━━━━━━━━━━┩\n",
       "│ conv2d_4 (<span style=\"color: #0087ff; text-decoration-color: #0087ff\">Conv2D</span>)              │ (<span style=\"color: #00d7ff; text-decoration-color: #00d7ff\">None</span>, <span style=\"color: #00af00; text-decoration-color: #00af00\">24</span>, <span style=\"color: #00af00; text-decoration-color: #00af00\">24</span>, <span style=\"color: #00af00; text-decoration-color: #00af00\">50</span>)      │        <span style=\"color: #00af00; text-decoration-color: #00af00\">1,300</span> │\n",
       "├────────────────────────────────┼─────────────────────────┼──────────────┤\n",
       "│ max_pooling2d_4 (<span style=\"color: #0087ff; text-decoration-color: #0087ff\">MaxPooling2D</span>) │ (<span style=\"color: #00d7ff; text-decoration-color: #00d7ff\">None</span>, <span style=\"color: #00af00; text-decoration-color: #00af00\">12</span>, <span style=\"color: #00af00; text-decoration-color: #00af00\">12</span>, <span style=\"color: #00af00; text-decoration-color: #00af00\">50</span>)      │            <span style=\"color: #00af00; text-decoration-color: #00af00\">0</span> │\n",
       "├────────────────────────────────┼─────────────────────────┼──────────────┤\n",
       "│ conv2d_5 (<span style=\"color: #0087ff; text-decoration-color: #0087ff\">Conv2D</span>)              │ (<span style=\"color: #00d7ff; text-decoration-color: #00d7ff\">None</span>, <span style=\"color: #00af00; text-decoration-color: #00af00\">10</span>, <span style=\"color: #00af00; text-decoration-color: #00af00\">10</span>, <span style=\"color: #00af00; text-decoration-color: #00af00\">50</span>)      │       <span style=\"color: #00af00; text-decoration-color: #00af00\">22,550</span> │\n",
       "├────────────────────────────────┼─────────────────────────┼──────────────┤\n",
       "│ max_pooling2d_5 (<span style=\"color: #0087ff; text-decoration-color: #0087ff\">MaxPooling2D</span>) │ (<span style=\"color: #00d7ff; text-decoration-color: #00d7ff\">None</span>, <span style=\"color: #00af00; text-decoration-color: #00af00\">5</span>, <span style=\"color: #00af00; text-decoration-color: #00af00\">5</span>, <span style=\"color: #00af00; text-decoration-color: #00af00\">50</span>)        │            <span style=\"color: #00af00; text-decoration-color: #00af00\">0</span> │\n",
       "├────────────────────────────────┼─────────────────────────┼──────────────┤\n",
       "│ flatten_2 (<span style=\"color: #0087ff; text-decoration-color: #0087ff\">Flatten</span>)            │ (<span style=\"color: #00d7ff; text-decoration-color: #00d7ff\">None</span>, <span style=\"color: #00af00; text-decoration-color: #00af00\">1250</span>)            │            <span style=\"color: #00af00; text-decoration-color: #00af00\">0</span> │\n",
       "├────────────────────────────────┼─────────────────────────┼──────────────┤\n",
       "│ dense_2 (<span style=\"color: #0087ff; text-decoration-color: #0087ff\">Dense</span>)                │ (<span style=\"color: #00d7ff; text-decoration-color: #00d7ff\">None</span>, <span style=\"color: #00af00; text-decoration-color: #00af00\">10</span>)              │       <span style=\"color: #00af00; text-decoration-color: #00af00\">12,510</span> │\n",
       "└────────────────────────────────┴─────────────────────────┴──────────────┘\n",
       "</pre>\n"
      ],
      "text/plain": [
       "┏━━━━━━━━━━━━━━━━━━━━━━━━━━━━━━━━┳━━━━━━━━━━━━━━━━━━━━━━━━━┳━━━━━━━━━━━━━━┓\n",
       "┃\u001b[1m \u001b[0m\u001b[1mLayer (type)                  \u001b[0m\u001b[1m \u001b[0m┃\u001b[1m \u001b[0m\u001b[1mOutput Shape           \u001b[0m\u001b[1m \u001b[0m┃\u001b[1m \u001b[0m\u001b[1m     Param #\u001b[0m\u001b[1m \u001b[0m┃\n",
       "┡━━━━━━━━━━━━━━━━━━━━━━━━━━━━━━━━╇━━━━━━━━━━━━━━━━━━━━━━━━━╇━━━━━━━━━━━━━━┩\n",
       "│ conv2d_4 (\u001b[38;5;33mConv2D\u001b[0m)              │ (\u001b[38;5;45mNone\u001b[0m, \u001b[38;5;34m24\u001b[0m, \u001b[38;5;34m24\u001b[0m, \u001b[38;5;34m50\u001b[0m)      │        \u001b[38;5;34m1,300\u001b[0m │\n",
       "├────────────────────────────────┼─────────────────────────┼──────────────┤\n",
       "│ max_pooling2d_4 (\u001b[38;5;33mMaxPooling2D\u001b[0m) │ (\u001b[38;5;45mNone\u001b[0m, \u001b[38;5;34m12\u001b[0m, \u001b[38;5;34m12\u001b[0m, \u001b[38;5;34m50\u001b[0m)      │            \u001b[38;5;34m0\u001b[0m │\n",
       "├────────────────────────────────┼─────────────────────────┼──────────────┤\n",
       "│ conv2d_5 (\u001b[38;5;33mConv2D\u001b[0m)              │ (\u001b[38;5;45mNone\u001b[0m, \u001b[38;5;34m10\u001b[0m, \u001b[38;5;34m10\u001b[0m, \u001b[38;5;34m50\u001b[0m)      │       \u001b[38;5;34m22,550\u001b[0m │\n",
       "├────────────────────────────────┼─────────────────────────┼──────────────┤\n",
       "│ max_pooling2d_5 (\u001b[38;5;33mMaxPooling2D\u001b[0m) │ (\u001b[38;5;45mNone\u001b[0m, \u001b[38;5;34m5\u001b[0m, \u001b[38;5;34m5\u001b[0m, \u001b[38;5;34m50\u001b[0m)        │            \u001b[38;5;34m0\u001b[0m │\n",
       "├────────────────────────────────┼─────────────────────────┼──────────────┤\n",
       "│ flatten_2 (\u001b[38;5;33mFlatten\u001b[0m)            │ (\u001b[38;5;45mNone\u001b[0m, \u001b[38;5;34m1250\u001b[0m)            │            \u001b[38;5;34m0\u001b[0m │\n",
       "├────────────────────────────────┼─────────────────────────┼──────────────┤\n",
       "│ dense_2 (\u001b[38;5;33mDense\u001b[0m)                │ (\u001b[38;5;45mNone\u001b[0m, \u001b[38;5;34m10\u001b[0m)              │       \u001b[38;5;34m12,510\u001b[0m │\n",
       "└────────────────────────────────┴─────────────────────────┴──────────────┘\n"
      ]
     },
     "metadata": {},
     "output_type": "display_data"
    },
    {
     "data": {
      "text/html": [
       "<pre style=\"white-space:pre;overflow-x:auto;line-height:normal;font-family:Menlo,'DejaVu Sans Mono',consolas,'Courier New',monospace\"><span style=\"font-weight: bold\"> Total params: </span><span style=\"color: #00af00; text-decoration-color: #00af00\">36,360</span> (142.03 KB)\n",
       "</pre>\n"
      ],
      "text/plain": [
       "\u001b[1m Total params: \u001b[0m\u001b[38;5;34m36,360\u001b[0m (142.03 KB)\n"
      ]
     },
     "metadata": {},
     "output_type": "display_data"
    },
    {
     "data": {
      "text/html": [
       "<pre style=\"white-space:pre;overflow-x:auto;line-height:normal;font-family:Menlo,'DejaVu Sans Mono',consolas,'Courier New',monospace\"><span style=\"font-weight: bold\"> Trainable params: </span><span style=\"color: #00af00; text-decoration-color: #00af00\">36,360</span> (142.03 KB)\n",
       "</pre>\n"
      ],
      "text/plain": [
       "\u001b[1m Trainable params: \u001b[0m\u001b[38;5;34m36,360\u001b[0m (142.03 KB)\n"
      ]
     },
     "metadata": {},
     "output_type": "display_data"
    },
    {
     "data": {
      "text/html": [
       "<pre style=\"white-space:pre;overflow-x:auto;line-height:normal;font-family:Menlo,'DejaVu Sans Mono',consolas,'Courier New',monospace\"><span style=\"font-weight: bold\"> Non-trainable params: </span><span style=\"color: #00af00; text-decoration-color: #00af00\">0</span> (0.00 B)\n",
       "</pre>\n"
      ],
      "text/plain": [
       "\u001b[1m Non-trainable params: \u001b[0m\u001b[38;5;34m0\u001b[0m (0.00 B)\n"
      ]
     },
     "metadata": {},
     "output_type": "display_data"
    }
   ],
   "source": [
    "model.summary(line_length = 75 )"
   ]
  },
  {
   "cell_type": "code",
   "execution_count": 63,
   "id": "0076aeeb-c949-4b24-8e47-78ec362edbf6",
   "metadata": {},
   "outputs": [],
   "source": [
    "loss_function = tf.keras.losses.SparseCategoricalCrossentropy(from_logits = True)"
   ]
  },
  {
   "cell_type": "code",
   "execution_count": 64,
   "id": "faeb2cb7-9e5b-4902-a1a1-c9d74d1b341c",
   "metadata": {},
   "outputs": [],
   "source": [
    "model.compile(optimizer = 'adam', loss = loss_function, metrics= ['accuracy'])"
   ]
  },
  {
   "cell_type": "code",
   "execution_count": 65,
   "id": "bc278648-5b3d-4d2e-8453-28aed05ddb55",
   "metadata": {},
   "outputs": [],
   "source": [
    "#A folder where we are going to save the log files name + datetime \n",
    "\n",
    "log_dir = \"log\\\\fit\\\\\" + \"run-1\""
   ]
  },
  {
   "cell_type": "code",
   "execution_count": 66,
   "id": "d22c18ed-0e00-4625-b6d6-70405a763d86",
   "metadata": {},
   "outputs": [],
   "source": [
    "#Confusion Matrix\n",
    "def plot_confusion_matrix(cm, class_names):\n",
    "    \"\"\"\n",
    "    Returns a matplotlib figure containing the plotted confusion matrix.\n",
    "\n",
    "    Args:\n",
    "    cm (array, shape = [n, n]): a confusion matrix of integer classes\n",
    "    class_names (array, shape = [n]): String names of the integer classes\n",
    "    \"\"\"\n",
    "    figure = plt.figure(figsize=(12, 12))\n",
    "    plt.imshow(cm, interpolation='nearest', cmap=plt.cm.Blues)\n",
    "    plt.title(\"Confusion matrix\")\n",
    "    plt.colorbar()\n",
    "    tick_marks = np.arange(len(class_names))\n",
    "    plt.xticks(tick_marks, class_names, rotation=45)\n",
    "    plt.yticks(tick_marks, class_names)\n",
    "\n",
    "    # Normalize the confusion matrix.\n",
    "    cm = np.around(cm.astype('float') / cm.sum(axis=1)[:, np.newaxis], decimals=2)\n",
    "\n",
    "    # Use white text if squares are dark; otherwise black.\n",
    "    threshold = cm.max() / 2.\n",
    "    for i, j in itertools.product(range(cm.shape[0]), range(cm.shape[1])):\n",
    "        color = \"white\" if cm[i, j] > threshold else \"black\"\n",
    "        plt.text(j, i, cm[i, j], horizontalalignment=\"center\", color=color)\n",
    "\n",
    "    plt.tight_layout()\n",
    "    plt.ylabel('True label')\n",
    "    plt.xlabel('Predicted label')\n",
    "    \n",
    "    return figure"
   ]
  },
  {
   "cell_type": "code",
   "execution_count": 67,
   "id": "14adedc0-d1ec-47de-9282-af50015691fa",
   "metadata": {},
   "outputs": [],
   "source": [
    "def plot_to_image(figure):\n",
    "    \"\"\"Converts the matplotlib plot specified by 'figure' to a PNG image and\n",
    "    returns it. The supplied figure is closed and inaccessible after this call.\"\"\"\n",
    "    \n",
    "    # Save the plot to a PNG in memory.\n",
    "    buf = io.BytesIO()\n",
    "    plt.savefig(buf, format='png')\n",
    "    \n",
    "    # Closing the figure prevents it from being displayed directly inside the notebook.\n",
    "    plt.close(figure)\n",
    "    \n",
    "    buf.seek(0)\n",
    "    \n",
    "    # Convert PNG buffer to TF image\n",
    "    image = tf.image.decode_png(buf.getvalue(), channels=4)\n",
    "    \n",
    "    # Add the batch dimension\n",
    "    image = tf.expand_dims(image, 0)\n",
    "    \n",
    "    return image"
   ]
  },
  {
   "cell_type": "code",
   "execution_count": 68,
   "id": "603c1352-947f-48e1-935c-5837fab8c9e2",
   "metadata": {},
   "outputs": [],
   "source": [
    "# Define a file writer variable for logging purposes\n",
    "file_writer_cm = tf.summary.create_file_writer(log_dir + '/cm')\n",
    "\n",
    "def log_confusion_matrix(epoch, logs):\n",
    "    # Use the model to predict the values from the validation dataset.\n",
    "    test_pred_raw = model.predict(images_val)\n",
    "    test_pred = np.argmax(test_pred_raw, axis=1)\n",
    "\n",
    "    # Calculate the confusion matrix.\n",
    "    cm = sklearn.metrics.confusion_matrix(labels_val, test_pred)\n",
    "    \n",
    "    # Log the confusion matrix as an image summary.\n",
    "    figure = plot_confusion_matrix(cm, class_names=['0', '1', '2', '3', '4', '5', '6', '7', '8', '9'])\n",
    "    cm_image = plot_to_image(figure)\n",
    "\n",
    "    # Log the confusion matrix as an image summary.\n",
    "    with file_writer_cm.as_default():\n",
    "        tf.summary.image(\"Confusion Matrix\", cm_image, step=epoch)"
   ]
  },
  {
   "cell_type": "code",
   "execution_count": 69,
   "id": "e200dc14-0851-495b-850c-7b4f680be60c",
   "metadata": {},
   "outputs": [],
   "source": [
    "tensorboard_callback = tf.keras.callbacks.TensorBoard(log_dir = log_dir, histogram_freq = 1 , profile_batch=0)"
   ]
  },
  {
   "cell_type": "code",
   "execution_count": 70,
   "id": "262a54d4-ad9d-4689-9ea0-fc4f66fba5d6",
   "metadata": {},
   "outputs": [],
   "source": [
    "cm_callback = tf.keras.callbacks.LambdaCallback(on_epoch_end=log_confusion_matrix)\n"
   ]
  },
  {
   "cell_type": "code",
   "execution_count": 71,
   "id": "1d2bacb2-6cbb-4ff6-9d96-21cc06052765",
   "metadata": {},
   "outputs": [],
   "source": [
    "early_stopping = tf.keras.callbacks.EarlyStopping (\n",
    "    monitor = 'val_loss' , \n",
    "    mode = 'auto' , \n",
    "    min_delta = 0,\n",
    "    patience = 2,\n",
    "    verbose = 0,\n",
    "    restore_best_weights = True\n",
    ")"
   ]
  },
  {
   "cell_type": "code",
   "execution_count": 72,
   "id": "66731e06-5235-4b99-8656-e363c3e10b17",
   "metadata": {
    "scrolled": true
   },
   "outputs": [
    {
     "name": "stdout",
     "output_type": "stream",
     "text": [
      "Epoch 1/20\n",
      "\u001b[1m188/188\u001b[0m \u001b[32m━━━━━━━━━━━━━━━━━━━━\u001b[0m\u001b[37m\u001b[0m \u001b[1m0s\u001b[0m 2ms/step\n",
      "422/422 - 7s - 17ms/step - accuracy: 0.9270 - loss: 0.2633 - val_accuracy: 0.9740 - val_loss: 0.0797\n",
      "Epoch 2/20\n",
      "\u001b[1m188/188\u001b[0m \u001b[32m━━━━━━━━━━━━━━━━━━━━\u001b[0m\u001b[37m\u001b[0m \u001b[1m0s\u001b[0m 2ms/step\n",
      "422/422 - 7s - 16ms/step - accuracy: 0.9789 - loss: 0.0701 - val_accuracy: 0.9823 - val_loss: 0.0588\n",
      "Epoch 3/20\n",
      "\u001b[1m188/188\u001b[0m \u001b[32m━━━━━━━━━━━━━━━━━━━━\u001b[0m\u001b[37m\u001b[0m \u001b[1m0s\u001b[0m 1ms/step\n",
      "422/422 - 6s - 15ms/step - accuracy: 0.9838 - loss: 0.0530 - val_accuracy: 0.9847 - val_loss: 0.0494\n",
      "Epoch 4/20\n",
      "\u001b[1m188/188\u001b[0m \u001b[32m━━━━━━━━━━━━━━━━━━━━\u001b[0m\u001b[37m\u001b[0m \u001b[1m0s\u001b[0m 1ms/step\n",
      "422/422 - 6s - 15ms/step - accuracy: 0.9873 - loss: 0.0422 - val_accuracy: 0.9893 - val_loss: 0.0328\n",
      "Epoch 5/20\n",
      "\u001b[1m188/188\u001b[0m \u001b[32m━━━━━━━━━━━━━━━━━━━━\u001b[0m\u001b[37m\u001b[0m \u001b[1m0s\u001b[0m 1ms/step\n",
      "422/422 - 7s - 16ms/step - accuracy: 0.9894 - loss: 0.0350 - val_accuracy: 0.9905 - val_loss: 0.0281\n",
      "Epoch 6/20\n",
      "\u001b[1m188/188\u001b[0m \u001b[32m━━━━━━━━━━━━━━━━━━━━\u001b[0m\u001b[37m\u001b[0m \u001b[1m0s\u001b[0m 1ms/step\n",
      "422/422 - 6s - 15ms/step - accuracy: 0.9901 - loss: 0.0314 - val_accuracy: 0.9937 - val_loss: 0.0222\n",
      "Epoch 7/20\n",
      "\u001b[1m188/188\u001b[0m \u001b[32m━━━━━━━━━━━━━━━━━━━━\u001b[0m\u001b[37m\u001b[0m \u001b[1m0s\u001b[0m 1ms/step\n",
      "422/422 - 6s - 15ms/step - accuracy: 0.9916 - loss: 0.0267 - val_accuracy: 0.9908 - val_loss: 0.0300\n",
      "Epoch 8/20\n",
      "\u001b[1m188/188\u001b[0m \u001b[32m━━━━━━━━━━━━━━━━━━━━\u001b[0m\u001b[37m\u001b[0m \u001b[1m0s\u001b[0m 1ms/step\n",
      "422/422 - 6s - 15ms/step - accuracy: 0.9926 - loss: 0.0238 - val_accuracy: 0.9953 - val_loss: 0.0166\n",
      "Epoch 9/20\n",
      "\u001b[1m188/188\u001b[0m \u001b[32m━━━━━━━━━━━━━━━━━━━━\u001b[0m\u001b[37m\u001b[0m \u001b[1m0s\u001b[0m 1ms/step\n",
      "422/422 - 6s - 15ms/step - accuracy: 0.9933 - loss: 0.0204 - val_accuracy: 0.9948 - val_loss: 0.0171\n",
      "Epoch 10/20\n",
      "\u001b[1m188/188\u001b[0m \u001b[32m━━━━━━━━━━━━━━━━━━━━\u001b[0m\u001b[37m\u001b[0m \u001b[1m0s\u001b[0m 1ms/step\n",
      "422/422 - 6s - 15ms/step - accuracy: 0.9943 - loss: 0.0181 - val_accuracy: 0.9962 - val_loss: 0.0120\n",
      "Epoch 11/20\n",
      "\u001b[1m188/188\u001b[0m \u001b[32m━━━━━━━━━━━━━━━━━━━━\u001b[0m\u001b[37m\u001b[0m \u001b[1m0s\u001b[0m 1ms/step\n",
      "422/422 - 6s - 15ms/step - accuracy: 0.9951 - loss: 0.0166 - val_accuracy: 0.9965 - val_loss: 0.0114\n",
      "Epoch 12/20\n",
      "\u001b[1m188/188\u001b[0m \u001b[32m━━━━━━━━━━━━━━━━━━━━\u001b[0m\u001b[37m\u001b[0m \u001b[1m0s\u001b[0m 1ms/step\n",
      "422/422 - 6s - 15ms/step - accuracy: 0.9954 - loss: 0.0136 - val_accuracy: 0.9977 - val_loss: 0.0085\n",
      "Epoch 13/20\n",
      "\u001b[1m188/188\u001b[0m \u001b[32m━━━━━━━━━━━━━━━━━━━━\u001b[0m\u001b[37m\u001b[0m \u001b[1m0s\u001b[0m 2ms/step\n",
      "422/422 - 6s - 15ms/step - accuracy: 0.9962 - loss: 0.0117 - val_accuracy: 0.9972 - val_loss: 0.0093\n",
      "Epoch 14/20\n",
      "\u001b[1m188/188\u001b[0m \u001b[32m━━━━━━━━━━━━━━━━━━━━\u001b[0m\u001b[37m\u001b[0m \u001b[1m0s\u001b[0m 1ms/step\n",
      "422/422 - 7s - 16ms/step - accuracy: 0.9964 - loss: 0.0112 - val_accuracy: 0.9978 - val_loss: 0.0074\n",
      "Epoch 15/20\n",
      "\u001b[1m188/188\u001b[0m \u001b[32m━━━━━━━━━━━━━━━━━━━━\u001b[0m\u001b[37m\u001b[0m \u001b[1m0s\u001b[0m 2ms/step\n",
      "422/422 - 7s - 16ms/step - accuracy: 0.9968 - loss: 0.0098 - val_accuracy: 0.9987 - val_loss: 0.0045\n",
      "Epoch 16/20\n",
      "\u001b[1m188/188\u001b[0m \u001b[32m━━━━━━━━━━━━━━━━━━━━\u001b[0m\u001b[37m\u001b[0m \u001b[1m0s\u001b[0m 1ms/step\n",
      "422/422 - 7s - 15ms/step - accuracy: 0.9973 - loss: 0.0090 - val_accuracy: 0.9963 - val_loss: 0.0105\n",
      "Epoch 17/20\n",
      "\u001b[1m188/188\u001b[0m \u001b[32m━━━━━━━━━━━━━━━━━━━━\u001b[0m\u001b[37m\u001b[0m \u001b[1m0s\u001b[0m 1ms/step\n",
      "422/422 - 6s - 15ms/step - accuracy: 0.9973 - loss: 0.0087 - val_accuracy: 0.9965 - val_loss: 0.0109\n"
     ]
    },
    {
     "data": {
      "text/plain": [
       "<keras.src.callbacks.history.History at 0x28b90a7e0d0>"
      ]
     },
     "execution_count": 72,
     "metadata": {},
     "output_type": "execute_result"
    }
   ],
   "source": [
    "model.fit (\n",
    "    train_data,\n",
    "    epochs = Epochs,\n",
    "    callbacks = [tensorboard_callback ,cm_callback ,early_stopping],\n",
    "    validation_data = validation_data,\n",
    "    verbose = 2\n",
    ")"
   ]
  },
  {
   "cell_type": "code",
   "execution_count": 73,
   "id": "9ad80ac0-60b7-467a-a7af-c6fac49e29b0",
   "metadata": {},
   "outputs": [
    {
     "name": "stdout",
     "output_type": "stream",
     "text": [
      "The tensorboard extension is already loaded. To reload it, use:\n",
      "  %reload_ext tensorboard\n"
     ]
    },
    {
     "data": {
      "text/plain": [
       "Reusing TensorBoard on port 6006 (pid 10084), started 2:09:06 ago. (Use '!kill 10084' to kill it.)"
      ]
     },
     "metadata": {},
     "output_type": "display_data"
    },
    {
     "data": {
      "text/html": [
       "\n",
       "      <iframe id=\"tensorboard-frame-3a115581d3b1580d\" width=\"100%\" height=\"800\" frameborder=\"0\">\n",
       "      </iframe>\n",
       "      <script>\n",
       "        (function() {\n",
       "          const frame = document.getElementById(\"tensorboard-frame-3a115581d3b1580d\");\n",
       "          const url = new URL(\"/\", window.location);\n",
       "          const port = 6006;\n",
       "          if (port) {\n",
       "            url.port = port;\n",
       "          }\n",
       "          frame.src = url;\n",
       "        })();\n",
       "      </script>\n",
       "    "
      ],
      "text/plain": [
       "<IPython.core.display.HTML object>"
      ]
     },
     "metadata": {},
     "output_type": "display_data"
    }
   ],
   "source": [
    "#Visualizing in Tensorboard\n",
    "%load_ext tensorboard\n",
    "%tensorboard --logdir \"log/fit\"\n"
   ]
  },
  {
   "cell_type": "code",
   "execution_count": 74,
   "id": "bd11d633-38ea-4c93-a074-bdd5a800630b",
   "metadata": {},
   "outputs": [
    {
     "name": "stdout",
     "output_type": "stream",
     "text": [
      "\u001b[1m1/1\u001b[0m \u001b[32m━━━━━━━━━━━━━━━━━━━━\u001b[0m\u001b[37m\u001b[0m \u001b[1m0s\u001b[0m 424ms/step - accuracy: 0.9906 - loss: 0.0294\n"
     ]
    }
   ],
   "source": [
    "#Testing Our Model\n",
    "\n",
    "test_loss , test_accuracy = model.evaluate(test_data)"
   ]
  },
  {
   "cell_type": "code",
   "execution_count": 75,
   "id": "1e0eaa16-a050-41b8-bef3-21c82cbcc474",
   "metadata": {},
   "outputs": [],
   "source": [
    "#Plotting Images and The results \n",
    "\n",
    "import matplotlib.pyplot as plt\n",
    "import numpy as np"
   ]
  },
  {
   "cell_type": "code",
   "execution_count": 76,
   "id": "12918429-53e0-41f7-85a6-20dc0c4005ca",
   "metadata": {},
   "outputs": [],
   "source": [
    "#split the test data into 2 arrays, containing the images and the corresponding labels ( output )\n",
    "\n",
    "for images, labels in test_data.take(1):\n",
    "    images_test = images.numpy()\n",
    "    labels_test = labels.numpy()"
   ]
  },
  {
   "cell_type": "code",
   "execution_count": 77,
   "id": "a5d28090-7c88-4e7d-8b85-7d621264750b",
   "metadata": {},
   "outputs": [],
   "source": [
    "#Reshape the images into 28*28 form, suitable for matplotlib (original dim = 28*28*1)\n",
    "\n",
    "images_plot = np.reshape(images_test, (10000, 28 , 28))"
   ]
  },
  {
   "cell_type": "code",
   "execution_count": 110,
   "id": "bee4ac71-11b4-4a94-87c9-49c37f4158e8",
   "metadata": {},
   "outputs": [
    {
     "name": "stdout",
     "output_type": "stream",
     "text": [
      "Label : 9 \n"
     ]
    },
    {
     "data": {
      "image/png": "[encoded data removed]",
      "text/plain": [
       "<Figure size 200x200 with 1 Axes>"
      ]
     },
     "metadata": {},
     "output_type": "display_data"
    }
   ],
   "source": [
    "#in \"i\" , we are going to put a index of an image from 1 to 10000 for testing \n",
    "i = 54\n",
    "\n",
    "#plot the image and see the label (result) \n",
    "plt.figure( figsize = (2,2))\n",
    "plt.axis('off')\n",
    "plt.imshow(images_plot[i-1] , cmap = 'gray' , aspect = 'auto')\n",
    "\n",
    "#print the correct label for this image \n",
    "print(\"Label : {} \".format(labels_test[i-1]))"
   ]
  },
  {
   "cell_type": "code",
   "execution_count": 111,
   "id": "f8487ca2-ecf8-4784-bb3f-d4dddf171aa0",
   "metadata": {},
   "outputs": [
    {
     "name": "stdout",
     "output_type": "stream",
     "text": [
      "\u001b[1m1/1\u001b[0m \u001b[32m━━━━━━━━━━━━━━━━━━━━\u001b[0m\u001b[37m\u001b[0m \u001b[1m0s\u001b[0m 14ms/step\n"
     ]
    },
    {
     "data": {
      "text/plain": [
       "<BarContainer object of 10 artists>"
      ]
     },
     "execution_count": 111,
     "metadata": {},
     "output_type": "execute_result"
    },
    {
     "data": {
      "image/png": "[encoded data removed]",
      "text/plain": [
       "<Figure size 1200x500 with 1 Axes>"
      ]
     },
     "metadata": {},
     "output_type": "display_data"
    }
   ],
   "source": [
    "#Let's predict \n",
    "\n",
    "predictions = model.predict(images_test[i-1:i])\n",
    "\n",
    "proba = tf.nn.softmax(predictions).numpy()\n",
    "\n",
    "proba = proba*100\n",
    "\n",
    "\n",
    "plt.figure(figsize=(12,5))\n",
    "plt.bar(x=[1,2,3,4,5,6,7,8,9,10] , height = proba[0] , tick_label=[\"0\",\"1\",\"2\",\"3\",\"4\",\"5\",\"6\",\"7\",\"8\",\"9\"])"
   ]
  },
  {
   "cell_type": "code",
   "execution_count": 112,
   "id": "d6e88aea-533b-4f28-9e7d-3f23e1da56fe",
   "metadata": {},
   "outputs": [],
   "source": [
    "from tensorflow.keras.models import load_model\n",
    "import os"
   ]
  },
  {
   "cell_type": "code",
   "execution_count": 117,
   "id": "4723866e-aed1-41a9-9e7a-6a53fc0d367c",
   "metadata": {},
   "outputs": [
    {
     "name": "stderr",
     "output_type": "stream",
     "text": [
      "WARNING:absl:You are saving your model as an HDF5 file via `model.save()` or `keras.saving.save_model(model)`. This file format is considered legacy. We recommend using instead the native Keras format, e.g. `model.save('my_model.keras')` or `keras.saving.save_model(model, 'my_model.keras')`. \n"
     ]
    }
   ],
   "source": [
    "model.save(os.path.join('model','my_model.h5'))"
   ]
  },
  {
   "cell_type": "code",
   "execution_count": 118,
   "id": "c75d554d-4392-42de-bf99-0314f389b843",
   "metadata": {},
   "outputs": [
    {
     "name": "stderr",
     "output_type": "stream",
     "text": [
      "WARNING:absl:Compiled the loaded model, but the compiled metrics have yet to be built. `model.compile_metrics` will be empty until you train or evaluate the model.\n"
     ]
    }
   ],
   "source": [
    "new_model = load_model(os.path.join('model','my_model.h5'))"
   ]
  },
  {
   "cell_type": "code",
   "execution_count": 119,
   "id": "0016c69a-dade-4cea-a739-8076b02b95f6",
   "metadata": {},
   "outputs": [
    {
     "name": "stdout",
     "output_type": "stream",
     "text": [
      "\u001b[1m1/1\u001b[0m \u001b[32m━━━━━━━━━━━━━━━━━━━━\u001b[0m\u001b[37m\u001b[0m \u001b[1m0s\u001b[0m 11ms/step\n"
     ]
    },
    {
     "data": {
      "text/plain": [
       "<BarContainer object of 10 artists>"
      ]
     },
     "execution_count": 119,
     "metadata": {},
     "output_type": "execute_result"
    },
    {
     "data": {
      "image/png": "[encoded data removed]",
      "text/plain": [
       "<Figure size 1200x500 with 1 Axes>"
      ]
     },
     "metadata": {},
     "output_type": "display_data"
    }
   ],
   "source": [
    "#Let's predict \n",
    "\n",
    "new_model = model.predict(images_test[i-1:i])\n",
    "\n",
    "proba = tf.nn.softmax(new_model).numpy()\n",
    "\n",
    "proba = proba*100\n",
    "\n",
    "\n",
    "plt.figure(figsize=(12,5))\n",
    "plt.bar(x=[1,2,3,4,5,6,7,8,9,10] , height = proba[0] , tick_label=[\"0\",\"1\",\"2\",\"3\",\"4\",\"5\",\"6\",\"7\",\"8\",\"9\"])"
   ]
  }
 ],
 "metadata": {
  "kernelspec": {
   "display_name": "Python 3 (ipykernel)",
   "language": "python",
   "name": "python3"
  },
  "language_info": {
   "codemirror_mode": {
    "name": "ipython",
    "version": 3
   },
   "file_extension": ".py",
   "mimetype": "text/x-python",
   "name": "python",
   "nbconvert_exporter": "python",
   "pygments_lexer": "ipython3",
   "version": "3.11.7"
  }
 },
 "nbformat": 4,
 "nbformat_minor": 5
}
